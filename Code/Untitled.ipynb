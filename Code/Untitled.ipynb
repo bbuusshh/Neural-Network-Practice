{
 "cells": [
  {
   "cell_type": "code",
   "execution_count": 1,
   "metadata": {},
   "outputs": [],
   "source": [
    "import numpy as np"
   ]
  },
  {
   "cell_type": "code",
   "execution_count": 2,
   "metadata": {},
   "outputs": [
    {
     "name": "stdout",
     "output_type": "stream",
     "text": [
      "[(20, 2), (1, 20)]\n",
      "(20, 1)\n",
      "(1, 1)\n",
      "[[ 0.38298326  0.41081332]\n",
      " [ 0.62248202  0.47299352]\n",
      " [ 0.18472458  0.14717051]\n",
      " [-0.90770387 -0.39312531]\n",
      " [ 0.1465936   0.17371889]\n",
      " [ 0.5243355   0.35490587]\n",
      " [-0.43923567 -0.41797111]\n",
      " [-0.26253428  0.64257964]\n",
      " [-1.28154058 -0.26371259]\n",
      " [ 1.1207915   0.74073989]\n",
      " [-0.27207552 -0.54417485]\n",
      " [-0.52148937  0.02097549]\n",
      " [ 0.64346745 -0.13997387]\n",
      " [ 0.61070533 -0.88508486]\n",
      " [-0.01299423  0.65407324]\n",
      " [ 0.09957758 -0.1009356 ]\n",
      " [ 0.16993218  0.47881992]\n",
      " [-0.54402547 -0.4060532 ]\n",
      " [ 0.33822842  0.62305383]\n",
      " [-0.81771139 -0.62041143]]\n",
      "\n",
      "\n",
      "[[ 0.17257273 -0.11603026  0.11588969 -0.1634344   0.1901216   0.00125858\n",
      "   0.01732429 -0.07115276  0.17309528  0.01980868  0.30530798 -0.31611332\n",
      "  -0.10951267 -0.14365261 -0.03462703 -0.37872557 -0.12771131  0.0072744\n",
      "  -0.31336608  0.01228376]]\n",
      "\n",
      "\n",
      "[[1.]\n",
      " [1.]\n",
      " [1.]\n",
      " [1.]\n",
      " [1.]\n",
      " [1.]\n",
      " [1.]\n",
      " [1.]\n",
      " [1.]\n",
      " [1.]\n",
      " [1.]\n",
      " [1.]\n",
      " [1.]\n",
      " [1.]\n",
      " [1.]\n",
      " [1.]\n",
      " [1.]\n",
      " [1.]\n",
      " [1.]\n",
      " [1.]]\n"
     ]
    }
   ],
   "source": [
    "layer_sizes = (2, 20, 1)\n",
    "weight_shapes = [(a,b) for a, b in zip(layer_sizes[1:], layer_sizes[:-1])]\n",
    "biases = [np.ones((s, 1)) for s in layer_sizes[1:]]\n",
    "weights = [np.random.standard_normal(s) / s[1]**0.5 for s in weight_shapes]\n",
    "print(weight_shapes)\n",
    "for b in biases:\n",
    "    print(b.shape)\n",
    "for w in weights:\n",
    "    print(w)\n",
    "    print('\\n')\n",
    "print(biases[0])"
   ]
  },
  {
   "cell_type": "code",
   "execution_count": 3,
   "metadata": {},
   "outputs": [
    {
     "name": "stdout",
     "output_type": "stream",
     "text": [
      "[1 1]\n",
      "[[ 1.79379658  2.09547554  1.33189508 -0.30082918  1.32031249  1.87924137\n",
      "   0.14279322  1.38004536 -0.54525318  2.86153139  0.18374963  0.49948612\n",
      "   1.50349358  0.72562047  1.64107901  0.99864198  1.64875209  0.04992133\n",
      "   1.96128225 -0.43812282]]\n",
      "(1, 20)\n"
     ]
    }
   ],
   "source": [
    "a = np.array([1,1])\n",
    "print(a)\n",
    "temp = np.matmul(weights[0],a.T) + biases[0].T\n",
    "print(temp)\n",
    "print(temp.shape)"
   ]
  },
  {
   "cell_type": "code",
   "execution_count": 5,
   "metadata": {},
   "outputs": [
    {
     "name": "stdout",
     "output_type": "stream",
     "text": [
      "[[-0.24599427]]\n"
     ]
    }
   ],
   "source": [
    "a = np.matmul(weights[1], temp.T) + biases[1].T\n",
    "print(a)"
   ]
  }
 ],
 "metadata": {
  "kernelspec": {
   "display_name": "Python 3",
   "language": "python",
   "name": "python3"
  },
  "language_info": {
   "codemirror_mode": {
    "name": "ipython",
    "version": 3
   },
   "file_extension": ".py",
   "mimetype": "text/x-python",
   "name": "python",
   "nbconvert_exporter": "python",
   "pygments_lexer": "ipython3",
   "version": "3.7.3"
  }
 },
 "nbformat": 4,
 "nbformat_minor": 2
}
