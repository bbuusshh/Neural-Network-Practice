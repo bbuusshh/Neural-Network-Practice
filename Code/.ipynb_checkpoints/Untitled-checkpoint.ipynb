{
 "cells": [
  {
   "cell_type": "code",
   "execution_count": 1,
   "metadata": {},
   "outputs": [],
   "source": [
    "import numpy as np"
   ]
  },
  {
   "cell_type": "code",
   "execution_count": 4,
   "metadata": {},
   "outputs": [
    {
     "name": "stdout",
     "output_type": "stream",
     "text": [
      "[(3, 3), (1, 3), (4, 1), (1, 4)]\n",
      "(3, 1)\n",
      "(1, 1)\n",
      "(4, 1)\n",
      "(1, 1)\n"
     ]
    }
   ],
   "source": [
    "layer_sizes = (3,3,1, 4, 1)\n",
    "weight_shapes = [(a,b) for a, b in zip(layer_sizes[1:], layer_sizes[:-1])]\n",
    "biases = [np.ones((s, 1)) for s in layer_sizes[1:]]\n",
    "weights = [np.random.standard_normal(s) / s[1]**0.5 for s in weight_shapes]\n",
    "print(weight_shapes)\n",
    "for b in biases:\n",
    "    print(b.shape)\n",
    "for w in weights:\n",
    "    print(w)"
   ]
  },
  {
   "cell_type": "code",
   "execution_count": null,
   "metadata": {},
   "outputs": [],
   "source": []
  }
 ],
 "metadata": {
  "kernelspec": {
   "display_name": "Python 3",
   "language": "python",
   "name": "python3"
  },
  "language_info": {
   "codemirror_mode": {
    "name": "ipython",
    "version": 3
   },
   "file_extension": ".py",
   "mimetype": "text/x-python",
   "name": "python",
   "nbconvert_exporter": "python",
   "pygments_lexer": "ipython3",
   "version": "3.7.3"
  }
 },
 "nbformat": 4,
 "nbformat_minor": 2
}
