{
 "cells": [
  {
   "cell_type": "code",
   "execution_count": null,
   "metadata": {},
   "outputs": [],
   "source": [
    "import neuralnetwork as nn\n",
    "import numpy as np\n",
    "\n",
    "# Importing the data\n",
    "\n",
    "\n",
    "def import_data(filename):\n",
    "    data = np.loadtxt(filename)\n",
    "    input_data = data[:, :2]\n",
    "    output_data = data[:, -1]\n",
    "\n",
    "    return input_data, output_data\n",
    "\n",
    "\n",
    "def get_predictions(data_in, network):\n",
    "    predictions = []\n",
    "\n",
    "    for data in data_in:\n",
    "        # Convert data from row to column vector\n",
    "        data = np.reshape(data, (-1, 1))\n",
    "        predictions.append(network.forward(data))\n",
    "\n",
    "    # Format the data\n",
    "    \n",
    "    for i in range(len(predictions)):\n",
    "        predictions[i] = np.asscalar(predictions[i])\n",
    "        \n",
    "    return predictions\n",
    "\n",
    "\n",
    "if __name__ == '__main__':\n",
    "\n",
    "    filename = 'data2Class.txt'\n",
    "\n",
    "    data_in, data_out = import_data(filename)\n",
    "\n",
    "    # Initialize the Neural Network\n",
    "    layer_sizes = (2, 20, 1)\n",
    "    net = nn.NeuralNetwork(layer_sizes)\n",
    "    # Get predictions from forward propagation\n",
    "    predictions = get_predictions(data_in, net)"
   ]
  },
  {
   "cell_type": "code",
   "execution_count": null,
   "metadata": {},
   "outputs": [],
   "source": [
    "predictions"
   ]
  },
  {
   "cell_type": "code",
   "execution_count": null,
   "metadata": {},
   "outputs": [],
   "source": []
  }
 ],
 "metadata": {
  "kernelspec": {
   "display_name": "Python 3",
   "language": "python",
   "name": "python3"
  },
  "language_info": {
   "codemirror_mode": {
    "name": "ipython",
    "version": 3
   },
   "file_extension": ".py",
   "mimetype": "text/x-python",
   "name": "python",
   "nbconvert_exporter": "python",
   "pygments_lexer": "ipython3",
   "version": "3.7.3"
  }
 },
 "nbformat": 4,
 "nbformat_minor": 2
}
